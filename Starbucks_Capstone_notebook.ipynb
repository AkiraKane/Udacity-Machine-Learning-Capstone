{
 "cells": [
  {
   "cell_type": "markdown",
   "metadata": {},
   "source": [
    "# Starbucks Capstone Challenge\n",
    "\n",
    "### Introduction\n",
    "\n",
    "This data set contains simulated data that mimics customer behavior on the Starbucks rewards mobile app. Once every few days, Starbucks sends out an offer to users of the mobile app. An offer can be merely an advertisement for a drink or an actual offer such as a discount or BOGO (buy one get one free). Some users might not receive any offer during certain weeks. \n",
    "\n",
    "Not all users receive the same offer, and that is the challenge to solve with this data set.\n",
    "\n",
    "Your task is to combine transaction, demographic and offer data to determine which demographic groups respond best to which offer type. This data set is a simplified version of the real Starbucks app because the underlying simulator only has one product whereas Starbucks actually sells dozens of products.\n",
    "\n",
    "Every offer has a validity period before the offer expires. As an example, a BOGO offer might be valid for only 5 days. You'll see in the data set that informational offers have a validity period even though these ads are merely providing information about a product; for example, if an informational offer has 7 days of validity, you can assume the customer is feeling the influence of the offer for 7 days after receiving the advertisement.\n",
    "\n",
    "You'll be given transactional data showing user purchases made on the app including the timestamp of purchase and the amount of money spent on a purchase. This transactional data also has a record for each offer that a user receives as well as a record for when a user actually views the offer. There are also records for when a user completes an offer. \n",
    "\n",
    "Keep in mind as well that someone using the app might make a purchase through the app without having received an offer or seen an offer.\n",
    "\n",
    "### Example\n",
    "\n",
    "To give an example, a user could receive a discount offer buy 10 dollars get 2 off on Monday. The offer is valid for 10 days from receipt. If the customer accumulates at least 10 dollars in purchases during the validity period, the customer completes the offer.\n",
    "\n",
    "However, there are a few things to watch out for in this data set. Customers do not opt into the offers that they receive; in other words, a user can receive an offer, never actually view the offer, and still complete the offer. For example, a user might receive the \"buy 10 dollars get 2 dollars off offer\", but the user never opens the offer during the 10 day validity period. The customer spends 15 dollars during those ten days. There will be an offer completion record in the data set; however, the customer was not influenced by the offer because the customer never viewed the offer.\n",
    "\n",
    "### Cleaning\n",
    "\n",
    "This makes data cleaning especially important and tricky.\n",
    "\n",
    "You'll also want to take into account that some demographic groups will make purchases even if they don't receive an offer. From a business perspective, if a customer is going to make a 10 dollar purchase without an offer anyway, you wouldn't want to send a buy 10 dollars get 2 dollars off offer. You'll want to try to assess what a certain demographic group will buy when not receiving any offers.\n",
    "\n",
    "### Final Advice\n",
    "\n",
    "Because this is a capstone project, you are free to analyze the data any way you see fit. For example, you could build a machine learning model that predicts how much someone will spend based on demographics and offer type. Or you could build a model that predicts whether or not someone will respond to an offer. Or, you don't need to build a machine learning model at all. You could develop a set of heuristics that determine what offer you should send to each customer (i.e., 75 percent of women customers who were 35 years old responded to offer A vs 40 percent from the same demographic to offer B, so send offer A)."
   ]
  },
  {
   "cell_type": "markdown",
   "metadata": {},
   "source": [
    "# Data Sets\n",
    "\n",
    "The data is contained in three files:\n",
    "\n",
    "* portfolio.json - containing offer ids and meta data about each offer (duration, type, etc.)\n",
    "* profile.json - demographic data for each customer\n",
    "* transcript.json - records for transactions, offers received, offers viewed, and offers completed\n",
    "\n",
    "Here is the schema and explanation of each variable in the files:\n",
    "\n",
    "**portfolio.json**\n",
    "* id (string) - offer id\n",
    "* offer_type (string) - type of offer ie BOGO, discount, informational\n",
    "* difficulty (int) - minimum required spend to complete an offer\n",
    "* reward (int) - reward given for completing an offer\n",
    "* duration (int) - time for offer to be open, in days\n",
    "* channels (list of strings)\n",
    "\n",
    "**profile.json**\n",
    "* age (int) - age of the customer \n",
    "* became_member_on (int) - date when customer created an app account\n",
    "* gender (str) - gender of the customer (note some entries contain 'O' for other rather than M or F)\n",
    "* id (str) - customer id\n",
    "* income (float) - customer's income\n",
    "\n",
    "**transcript.json**\n",
    "* event (str) - record description (ie transaction, offer received, offer viewed, etc.)\n",
    "* person (str) - customer id\n",
    "* time (int) - time in hours since start of test. The data begins at time t=0\n",
    "* value - (dict of strings) - either an offer id or transaction amount depending on the record\n",
    "\n",
    "**Note:** If you are using the workspace, you will need to go to the terminal and run the command `conda update pandas` before reading in the files. This is because the version of pandas in the workspace cannot read in the transcript.json file correctly, but the newest version of pandas can. You can access the termnal from the orange icon in the top left of this notebook.  \n",
    "\n",
    "You can see how to access the terminal and how the install works using the two images below.  First you need to access the terminal:\n",
    "\n",
    "<img src=\"pic1.png\"/>\n",
    "\n",
    "Then you will want to run the above command:\n",
    "\n",
    "<img src=\"pic2.png\"/>\n",
    "\n",
    "Finally, when you enter back into the notebook (use the jupyter icon again), you should be able to run the below cell without any errors."
   ]
  },
  {
   "cell_type": "code",
   "execution_count": null,
   "metadata": {},
   "outputs": [],
   "source": [
    "import pandas as pd\n",
    "import numpy as np\n",
    "import math\n",
    "import json\n",
    "import matplotlib.pyplot as plt\n",
    "import seaborn as sns\n",
    "% matplotlib inline\n",
    "\n",
    "# read in the json files\n",
    "portfolio = pd.read_json('data/portfolio.json', orient='records', lines=True)\n",
    "profile = pd.read_json('data/profile.json', orient='records', lines=True)\n",
    "transcript = pd.read_json('data/transcript.json', orient='records', lines=True)"
   ]
  },
  {
   "cell_type": "markdown",
   "metadata": {},
   "source": [
    "# Exploration of Data"
   ]
  },
  {
   "cell_type": "markdown",
   "metadata": {},
   "source": [
    "### Profile Data"
   ]
  },
  {
   "cell_type": "markdown",
   "metadata": {},
   "source": [
    "<strong>profile.json</strong> file includes all demographic data for each customer\n",
    "\n",
    "Its schema and explanation of each variable:\n",
    "\n",
    "* age (int) - age of the customer\n",
    "* became_member_on (int) - date when customer created an app account\n",
    "* gender (str) - gender of the customer (note some entries contain 'O' for other rather than M or F)\n",
    "* id (str) - customer id\n",
    "* income (float) - customer's income\n",
    "\n",
    "We can use `describe` method to get more stats about numerical columns"
   ]
  },
  {
   "cell_type": "code",
   "execution_count": null,
   "metadata": {},
   "outputs": [],
   "source": [
    "profile.head()"
   ]
  },
  {
   "cell_type": "markdown",
   "metadata": {},
   "source": [
    "It seems that there are multiple missing values in `gender` and `income` columns"
   ]
  },
  {
   "cell_type": "code",
   "execution_count": null,
   "metadata": {},
   "outputs": [],
   "source": [
    "profile.describe()"
   ]
  },
  {
   "cell_type": "markdown",
   "metadata": {},
   "source": [
    "It looks like we haven't formatted the datetime for `became_memeber_on`. Also there is outlier shows the maximum age is 118. We can address these issues more in the next satge for cleaning and transforming data"
   ]
  },
  {
   "cell_type": "code",
   "execution_count": null,
   "metadata": {},
   "outputs": [],
   "source": [
    "print(\"Profile has {} rows and {} columns\".format(profile.shape[0], profile.shape[1]))"
   ]
  },
  {
   "cell_type": "code",
   "execution_count": null,
   "metadata": {},
   "outputs": [],
   "source": [
    "profile.isnull().any()"
   ]
  },
  {
   "cell_type": "markdown",
   "metadata": {},
   "source": [
    "It seems that we have couple coulmns have missing values"
   ]
  },
  {
   "cell_type": "markdown",
   "metadata": {},
   "source": [
    "The outliers in the age histogram and more and more cumstomers become the members year after year. and 2017 is the peak.\n",
    "\n",
    "However, there is income cut off for each age groups as shown above. For people in 20s and 30s somewhere around 750K is a cut off for example. This indicates that the profile data is arbitrarily created. This may make prediciton simpler because user segmentation is clearler."
   ]
  },
  {
   "cell_type": "code",
   "execution_count": null,
   "metadata": {},
   "outputs": [],
   "source": [
    "pd.plotting.scatter_matrix(profile,  alpha=0.5, figsize=(10, 10), grid=True)"
   ]
  },
  {
   "cell_type": "markdown",
   "metadata": {},
   "source": [
    "### Portfolio Data"
   ]
  },
  {
   "cell_type": "markdown",
   "metadata": {},
   "source": [
    "<strong>portfolio.json</strong> - containing offer ids and meta data about each offer (duration, type, etc.)\n",
    "\n",
    "Its schema and explanation of each variable:\n",
    "\n",
    "* id (string) - offer id\n",
    "* offer_type (string) - type of offer ie BOGO, discount, informational\n",
    "* difficulty (int) - minimum required spend to complete an offer\n",
    "* reward (int) - reward given for completing an offer\n",
    "* duration (int) - time for offer to be open, in days\n",
    "* channels (list of strings)\n",
    "\n",
    "We can use `describe` method to get more stats about numerical columns"
   ]
  },
  {
   "cell_type": "code",
   "execution_count": null,
   "metadata": {},
   "outputs": [],
   "source": [
    "portfolio.head()"
   ]
  },
  {
   "cell_type": "code",
   "execution_count": null,
   "metadata": {},
   "outputs": [],
   "source": [
    "portfolio.describe()"
   ]
  },
  {
   "cell_type": "code",
   "execution_count": null,
   "metadata": {},
   "outputs": [],
   "source": [
    "print(\"Portfolio has {} rows and {} columns\".format(portfolio.shape[0], portfolio.shape[1]))"
   ]
  },
  {
   "cell_type": "code",
   "execution_count": null,
   "metadata": {},
   "outputs": [],
   "source": [
    "portfolio[\"offer_type\"].value_counts()"
   ]
  },
  {
   "cell_type": "markdown",
   "metadata": {},
   "source": [
    "This is a small dataset regarding the offers, which includes 4 discounts, 2 bogos and 2 informational uniquely."
   ]
  },
  {
   "cell_type": "code",
   "execution_count": null,
   "metadata": {},
   "outputs": [],
   "source": [
    "list_channel = []\n",
    "set([chan for channel in portfolio[\"channels\"].tolist() for chan in channel])"
   ]
  },
  {
   "cell_type": "markdown",
   "metadata": {},
   "source": [
    "There are 4 distinct channels"
   ]
  },
  {
   "cell_type": "markdown",
   "metadata": {},
   "source": [
    "### Transcript Data"
   ]
  },
  {
   "cell_type": "markdown",
   "metadata": {},
   "source": [
    "<strong>transcript.json</strong> - records for transactions, offers received, offers viewed, and offers completed\n",
    "\n",
    "Its schema and explanation of each variable:\n",
    "\n",
    "* event (str) - record description (ie transaction, offer received, offer viewed, etc.)\n",
    "* person (str) - customer id\n",
    "* time (int) - time in hours since start of test. The data begins at time t=0\n",
    "* value - (dict of strings) - either an offer id or transaction amount depending on the record\n",
    "\n",
    "We can use `describe` method to get more stats about numerical columns"
   ]
  },
  {
   "cell_type": "code",
   "execution_count": null,
   "metadata": {},
   "outputs": [],
   "source": [
    "transcript.head()"
   ]
  },
  {
   "cell_type": "code",
   "execution_count": null,
   "metadata": {},
   "outputs": [],
   "source": [
    "transcript.describe()"
   ]
  },
  {
   "cell_type": "code",
   "execution_count": null,
   "metadata": {},
   "outputs": [],
   "source": [
    "print(\"Transcript has {} rows and {} columns\".format(transcript.shape[0], transcript.shape[1]))"
   ]
  },
  {
   "cell_type": "code",
   "execution_count": null,
   "metadata": {},
   "outputs": [],
   "source": [
    "transcript.event.value_counts()"
   ]
  },
  {
   "cell_type": "code",
   "execution_count": null,
   "metadata": {},
   "outputs": [],
   "source": [
    "transcript[\"event\"].value_counts().plot(kind=\"bar\")\n",
    "plt.show()"
   ]
  },
  {
   "cell_type": "markdown",
   "metadata": {},
   "source": [
    "There is four types of events. Transaction, offer recieved and offer completed. They are reasonably balanced.\n",
    "\n"
   ]
  },
  {
   "cell_type": "code",
   "execution_count": null,
   "metadata": {},
   "outputs": [],
   "source": [
    "received = transcript[transcript['event']=='offer received'].person.value_counts()\n",
    "viewed = transcript[transcript['event']=='offer viewed'].person.value_counts()\n",
    "completed = transcript[transcript['event']=='offer completed'].person.value_counts()\n",
    "\n",
    "plt.hist([received, viewed, completed], alpha = 0.5, bins=10)\n",
    "plt.legend(['offer_received', 'offer_viewed', 'offer_completed'])\n",
    "plt.xlabel('count per user')\n",
    "plt.ylabel('count')\n",
    "plt.show()"
   ]
  },
  {
   "cell_type": "markdown",
   "metadata": {},
   "source": [
    "More members tend to receive and viewed 4 to 5 offers. However, they are most likely complete the first 3 offers. Since most of people are curious about the offers at first. When more and more offers sent to the customers and expired in a validate time period, memebers may not be interested in as before. However, they do view and receive them."
   ]
  },
  {
   "cell_type": "markdown",
   "metadata": {},
   "source": [
    "# Data Cleanup and Transformation"
   ]
  },
  {
   "cell_type": "markdown",
   "metadata": {},
   "source": [
    "### Profile Data"
   ]
  },
  {
   "cell_type": "markdown",
   "metadata": {},
   "source": [
    "1. previously we noticed that `age` column has 118, which is over 2000 counts out of 17000 total rows. we simply replace them with overall mean. so does `income`.\n",
    "\n",
    "2. hot-encoding on `gender` column\n",
    "\n",
    "3. transform the `became_member_on` column to the duration of members as now in datetime format."
   ]
  },
  {
   "cell_type": "code",
   "execution_count": null,
   "metadata": {},
   "outputs": [],
   "source": [
    "def get_dummy_columns_profile(df, column_name, field_name):\n",
    "    return df[column_name].apply(lambda x: 1 if x == field_name else 0)"
   ]
  },
  {
   "cell_type": "code",
   "execution_count": null,
   "metadata": {},
   "outputs": [],
   "source": [
    "import datetime\n",
    "\n",
    "def profile_cleanup_transform(df):\n",
    "    p = df.copy()\n",
    "    p['age'] = p['age'].apply(lambda x: np.nan if x == 118 else x)\n",
    "    p['age'] = p['age'].fillna(p['age'].mean())\n",
    "    \n",
    "    p['income'] = p['income'].fillna(p['income'].mean())\n",
    "    \n",
    "    p[\"male\"]   = get_dummy_columns_profile(p, 'gender', 'M')\n",
    "    p[\"female\"] = get_dummy_columns_profile(p, 'gender', 'F')\n",
    "    p['not_spicify_gender'] = p['gender'].apply(lambda x: 1 if x != 'F' and x != 'M' else 0)\n",
    "    p.drop(['gender'], axis=1, inplace=True)\n",
    "\n",
    "    p['profile_id'] = p['id']\n",
    "    p.drop(['id'], axis=1, inplace=True)\n",
    "    p.set_index('profile_id',inplace=True)\n",
    "\n",
    "    p['member_days'] = (datetime.datetime.today().date() - pd.to_datetime(p['became_member_on'], format='%Y%m%d').dt.date).dt.days\n",
    "    p.drop(['became_member_on'], axis=1, inplace=True)\n",
    "    return p"
   ]
  },
  {
   "cell_type": "code",
   "execution_count": null,
   "metadata": {},
   "outputs": [],
   "source": [
    "new_profile = profile_cleanup_transform(profile)\n",
    "new_profile.head()"
   ]
  },
  {
   "cell_type": "markdown",
   "metadata": {},
   "source": [
    "### Portfolio Data"
   ]
  },
  {
   "cell_type": "markdown",
   "metadata": {},
   "source": [
    "Since `channel` and `offer_type` are categorical columns, we can convert them into the dummy variable"
   ]
  },
  {
   "cell_type": "code",
   "execution_count": null,
   "metadata": {},
   "outputs": [],
   "source": [
    "def get_dummy_columns_portfolio(df, column_name, field_name):\n",
    "    return df[column_name].apply(lambda x: 1 if field_name in x else 0)\n",
    "\n",
    "def portfolio_cleanup_transform(df):\n",
    "    p = df.copy()\n",
    "    p['web'] = get_dummy_columns_portfolio(p, \"channels\", \"web\")\n",
    "    p['email'] = get_dummy_columns_portfolio(p, \"channels\", \"email\")\n",
    "    p['mobile'] = get_dummy_columns_portfolio(p, \"channels\", \"mobile\")\n",
    "    p['social'] = get_dummy_columns_portfolio(p, \"channels\", \"social\")\n",
    "    p.drop(['channels'], axis=1, inplace=True)\n",
    "    \n",
    "    p['bogo'] = get_dummy_columns_portfolio(p, \"offer_type\", \"bogo\")\n",
    "    p['discount'] = get_dummy_columns_portfolio(p, \"offer_type\", \"discount\")\n",
    "    p['informational'] = get_dummy_columns_portfolio(p, \"offer_type\", \"informational\")\n",
    "    p.drop(['offer_type'], axis=1, inplace=True)\n",
    "    \n",
    "    p['offer_id'] = p['id']\n",
    "    p.set_index('offer_id', inplace=True)\n",
    "    p.drop(['id'], axis=1, inplace=True)\n",
    "    \n",
    "    return p"
   ]
  },
  {
   "cell_type": "code",
   "execution_count": null,
   "metadata": {},
   "outputs": [],
   "source": [
    "new_portfolio = portfolio_cleanup_transform(portfolio)\n",
    "new_portfolio.head()"
   ]
  },
  {
   "cell_type": "markdown",
   "metadata": {},
   "source": [
    "### Transcript Data"
   ]
  },
  {
   "cell_type": "markdown",
   "metadata": {},
   "source": [
    "1. transform the `value` column and extract the `offer_id`\n",
    "2. hot-encoding on the `event` column\n",
    "3. drop off any irrelevant columns"
   ]
  },
  {
   "cell_type": "code",
   "execution_count": null,
   "metadata": {},
   "outputs": [],
   "source": [
    "def transaction_cleanup_transform(df):\n",
    "    p = df.copy()\n",
    "    p['profile_id'] = p['person']\n",
    "    p.drop(['person'], axis = 1, inplace = True)\n",
    "\n",
    "    p['amount'] = p['value'].apply(lambda x: x['amount'])\n",
    "    p.drop(['value'], axis = 1, inplace = True)\n",
    "    p.drop(['time'], axis = 1, inplace = True)\n",
    "    p.drop(['event'], axis = 1, inplace = True)\n",
    "    \n",
    "    p.reset_index(drop=True, inplace = True)\n",
    "    return p\n",
    "\n",
    "def offer_cleanup_transform(df):\n",
    "    p = df.copy()\n",
    "    p['profile_id'] = p['person']\n",
    "    p.drop(['person'], axis = 1, inplace = True)\n",
    "    \n",
    "    p['offer_id'] = p['value'].apply(lambda x: x['offer id'] if 'offer id' in x.keys() else x['offer_id'] if 'offer_id' in x.keys() else np.nan)\n",
    "\n",
    "    p['event'] = p['event'].apply(lambda x: x.replace(\" \", \"_\"))                                 \n",
    "    event_df = pd.get_dummies(p['event'])    \n",
    "    p = pd.concat([p, event_df], axis=1)\n",
    "\n",
    "    p.drop(['value', 'time', 'event'], axis = 1, inplace = True)\n",
    "    p.reset_index(drop=True, inplace = True)\n",
    "    return p"
   ]
  },
  {
   "cell_type": "code",
   "execution_count": null,
   "metadata": {},
   "outputs": [],
   "source": [
    "transaction = transcript[transcript[\"event\"] == \"transaction\"].copy()\n",
    "new_transaction = transaction_cleanup_transform(transaction)\n",
    "new_transaction.head()"
   ]
  },
  {
   "cell_type": "code",
   "execution_count": null,
   "metadata": {},
   "outputs": [],
   "source": [
    "offer = transcript[transcript[\"event\"] != \"transaction\"].copy()\n",
    "new_offer = offer_cleanup_transform(offer)\n",
    "new_offer.head()"
   ]
  },
  {
   "cell_type": "markdown",
   "metadata": {},
   "source": [
    "###  Merge Data"
   ]
  },
  {
   "cell_type": "code",
   "execution_count": null,
   "metadata": {},
   "outputs": [],
   "source": [
    "merged_data = pd.merge(new_offer, new_portfolio, on='offer_id')\n",
    "merged_data = pd.merge(merged_data, new_profile, on='profile_id')\n",
    "\n",
    "columns = merged_data.columns\n",
    "columns.to_list()\n",
    "\n",
    "offer_columns = ['offer_completed', 'offer_received', 'offer_viewed']\n",
    "\n",
    "agg_func={}\n",
    "for x in columns:\n",
    "    if x in offer_columns:\n",
    "        agg_func[x] = \"sum\"\n",
    "    elif x not in ['profile_id', 'offer_id']:\n",
    "        agg_func[x] = \"mean\"\n",
    "\n",
    "grouped_data = merged_data.groupby(['profile_id', 'offer_id']).agg(agg_func)\n",
    "\n",
    "grouped_data['offer_completed'] = grouped_data['offer_completed'].apply(lambda x: 1 if x > 0.0 else 0)\n",
    "\n",
    "grouped_data.reset_index(inplace=True, drop=True)\n",
    "\n",
    "offer_received = grouped_data['offer_received']\n",
    "offer_viewed = grouped_data['offer_viewed']\n",
    "offer_completed = grouped_data['offer_completed']\n",
    "\n",
    "X = grouped_data.drop([\n",
    "    'offer_completed', \n",
    "    'offer_received',\n",
    "    'offer_viewed',], axis = 1)"
   ]
  },
  {
   "cell_type": "code",
   "execution_count": null,
   "metadata": {},
   "outputs": [],
   "source": [
    "X.head()"
   ]
  },
  {
   "cell_type": "markdown",
   "metadata": {},
   "source": [
    "### Normalize Grouped Data "
   ]
  },
  {
   "cell_type": "code",
   "execution_count": null,
   "metadata": {},
   "outputs": [],
   "source": [
    "from sklearn.preprocessing import MinMaxScaler\n",
    "\n",
    "scaler = MinMaxScaler()\n",
    "numerical = ['age', 'income', 'difficulty','duration', 'reward','member_days']\n",
    "\n",
    "X[numerical] = scaler.fit_transform(X[numerical])\n",
    "X.head()"
   ]
  },
  {
   "cell_type": "markdown",
   "metadata": {},
   "source": [
    "### Split the Data"
   ]
  },
  {
   "cell_type": "code",
   "execution_count": null,
   "metadata": {},
   "outputs": [],
   "source": [
    "from sklearn.model_selection import train_test_split\n",
    "\n",
    "def split_data(X, y, test_size):\n",
    "    X_train, X_test, y_train, y_test = train_test_split(X, y, test_size = test_size, random_state=1)\n",
    "    return X_train, X_test, y_train, y_test\n"
   ]
  },
  {
   "cell_type": "code",
   "execution_count": null,
   "metadata": {},
   "outputs": [],
   "source": [
    "X_train, X_test, y_train, y_test = split_data(X, offer_completed, 0.2)"
   ]
  },
  {
   "cell_type": "markdown",
   "metadata": {},
   "source": [
    "# Benchmark Model"
   ]
  },
  {
   "cell_type": "code",
   "execution_count": null,
   "metadata": {},
   "outputs": [],
   "source": [
    "from sklearn.metrics import accuracy_score, roc_auc_score, roc_curve, confusion_matrix\n",
    "from sklearn.model_selection import cross_val_score"
   ]
  },
  {
   "cell_type": "code",
   "execution_count": null,
   "metadata": {},
   "outputs": [],
   "source": [
    "def train_and_prediction(model, X_train, y_train, X_test, y_test):\n",
    "    print('Name: {}'.format(model.__class__.__name__))\n",
    "    \n",
    "    model.fit(X_train, y_train)\n",
    "    y_pred = model.predict(X_test)\n",
    "    \n",
    "    score = model.score(X_test, y_test)\n",
    "    print('Test score: {:.3f}'.format(score))\n",
    "    accuracy = accuracy_score(y_test, y_pred)\n",
    "    print('Accuracy score: {:.3f}'.format(accuracy))\n",
    "\n",
    "    probs = model.predict_proba(X_test)[:, 1]\n",
    "    auc = roc_auc_score(y_test, probs)\n",
    "    print('AUC: %.2f' % auc)\n",
    "    fpr, tpr, _ = roc_curve(y_test, probs)\n",
    "    \n",
    "    confusionMatrix = confusion_matrix(y_test, y_pred)\n",
    "    \n",
    "    return {'y_pred': y_pred, 'auc': auc, 'fpr': fpr, 'tpr': tpr, 'score': score, 'accuracy': accuracy, \"confusion_matrix\": confusionMatrix}"
   ]
  },
  {
   "cell_type": "code",
   "execution_count": null,
   "metadata": {},
   "outputs": [],
   "source": [
    "from sklearn.dummy import DummyClassifier\n",
    "\n",
    "model = DummyClassifier(strategy=\"most_frequent\")"
   ]
  },
  {
   "cell_type": "code",
   "execution_count": null,
   "metadata": {},
   "outputs": [],
   "source": [
    "train_and_prediction(model, X_train, y_train, X_test, y_test)"
   ]
  },
  {
   "cell_type": "code",
   "execution_count": null,
   "metadata": {},
   "outputs": [],
   "source": [
    "from sklearn.linear_model import LogisticRegression\n",
    "from sklearn.svm import SVC\n",
    "from sklearn.tree import DecisionTreeClassifier\n",
    "from sklearn.neighbors import  KNeighborsClassifier\n",
    "from sklearn.neural_network import MLPClassifier\n",
    "from sklearn.ensemble import RandomForestClassifier\n",
    "from sklearn.ensemble import AdaBoostClassifier\n",
    "\n",
    "models = []\n",
    "models.append(DummyClassifier(strategy=\"most_frequent\"))\n",
    "models.append(SVC(probability=True))\n",
    "models.append(MLPClassifier())\n",
    "models.append(LogisticRegression())\n",
    "models.append(KNeighborsClassifier())\n",
    "models.append(SVC(kernel='linear',probability=True))\n",
    "models.append(RandomForestClassifier())\n",
    "models.append(AdaBoostClassifier())"
   ]
  },
  {
   "cell_type": "code",
   "execution_count": null,
   "metadata": {},
   "outputs": [],
   "source": [
    "best_score = 0\n",
    "best_method = \"\"\n",
    "\n",
    "for model in models:\n",
    "    result = train_and_prediction(model, X_train, y_train, X_test, y_test)\n",
    "    fpr, tpr, auc = result['fpr'], result['tpr'], result['auc']\n",
    "    plt.plot(fpr,tpr,label=\"{}, auc={}\".format(model.__class__.__name__, str(auc)))\n",
    "    \n",
    "    if result['score'] > best_score:\n",
    "        best_method = model.__class__.__name__\n",
    "        best_score = result['score']\n",
    "\n",
    "plt.xlabel('False Positive Rate')\n",
    "plt.ylabel('True Positive Rate')\n",
    "plt.title('Receiver Operating Characteristic (ROC) Curve')\n",
    "plt.legend()\n",
    "plt.show()\n",
    "\n",
    "print('---------------------------------')\n",
    "print('best_method：', best_method)\n",
    "print('best_score：', best_score)"
   ]
  },
  {
   "cell_type": "code",
   "execution_count": null,
   "metadata": {},
   "outputs": [],
   "source": []
  }
 ],
 "metadata": {
  "kernelspec": {
   "display_name": "Python 3",
   "language": "python",
   "name": "python3"
  },
  "language_info": {
   "codemirror_mode": {
    "name": "ipython",
    "version": 3
   },
   "file_extension": ".py",
   "mimetype": "text/x-python",
   "name": "python",
   "nbconvert_exporter": "python",
   "pygments_lexer": "ipython3",
   "version": "3.6.3"
  }
 },
 "nbformat": 4,
 "nbformat_minor": 2
}
